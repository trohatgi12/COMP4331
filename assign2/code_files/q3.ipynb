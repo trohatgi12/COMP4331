{
 "cells": [
  {
   "cell_type": "markdown",
   "metadata": {},
   "source": [
    "## Q3. (20 points) In this question, you use the code segments provided in the tutorial to implement the k-means and k-medoid algorithms as follows:\n",
    "\n",
    "1. kmeans k input-file output-file \n",
    "2. kmedoids k input-file output-file\n",
    "\n",
    "k-means and k-medoid algorithms as follows: The input-file is the dataset (with one sample per line), and the output-output is a png file, which use different colors to show the different clusters. An example is shown below.\n",
    "\n",
    "__Please find the code inside \"q2.py\" that uses sys argv[] to run the kmeans and kmediod in the folder. This is the visual representation used for solution__"
   ]
  },
  {
   "cell_type": "code",
   "execution_count": 2,
   "metadata": {},
   "outputs": [],
   "source": [
    "# Copying code segment from Lab 5\n",
    "from sklearn.datasets import make_blobs\n",
    "from matplotlib import pyplot\n",
    "import numpy as np\n",
    "import random\n",
    "from matplotlib import pyplot as plt\n",
    "from scipy.cluster.hierarchy import dendrogram, linkage\n",
    " \n",
    " \n",
    "class Clustering():\n",
    "    def __init__(self, k_num_center = 2, outlier = True, method = 'Mean'):\n",
    "        self.k_num_center = k_num_center\n",
    "        self.method = method\n",
    "        if outlier:\n",
    "            self.data = np.array([[1,2],[3,2],[5,1],[3,5],[8,7],[12,8],[10,9],[0,0],[40,40]])\n",
    "            target = np.array([1,2,3,4,5,6,7,8,9])\n",
    "        else:\n",
    "            self.data = np.array([[1,2],[3,2],[5,1],[3,5],[8,7],[12,8],[10,9],[0,0]])\n",
    "            target = np.array([1,2,3,4,5,6,7,8])\n",
    "        pyplot.scatter(self.data[:,0],self.data[:,1], c = target)\n",
    "        pyplot.show()\n",
    "    \n",
    "    def ou_distance(self,x,y):\n",
    "        return np.sqrt(sum(np.square(x-y)))\n",
    "    \n",
    "    def run_k_means(self, func_of_dis):\n",
    "        indexs = list(range(len(self.data)))\n",
    "        random.shuffle(indexs)\n",
    "        init_centroids_index = indexs[:self.k_num_center]\n",
    "        centroids = self.data[init_centroids_index,:]\n",
    "        levels = list(range(self.k_num_center))\n",
    "        print(\"start iteration\")\n",
    "        sample_target = []\n",
    "        for i in range(10):\n",
    "            new_centroids = [[] for i in range(self.k_num_center)]\n",
    "            new_centroids_num = [0 for i in range(self.k_num_center)]\n",
    "            sample_target = []\n",
    "\n",
    "            for sample in self.data:\n",
    "                distances = [self.ou_distance(sample, centroid) for centroid in centroids]\n",
    "                cur_level = np.argmin(distances)\n",
    "                sample_target.append(cur_level)\n",
    "\n",
    "\n",
    "                new_centroids_num[cur_level]+=1\n",
    "                if len(new_centroids[cur_level]) < 1:\n",
    "                    new_centroids[cur_level] = sample\n",
    "                else: \n",
    "                    new_centroids[cur_level] = new_centroids[cur_level]+sample\n",
    "\n",
    "            centroids = list()\n",
    "            for centroid, num in zip(new_centroids, new_centroids_num):\n",
    "                centroids.append([item/num for item in centroid])\n",
    "            centroids = np.array(centroids)\n",
    "\n",
    "        print('end')\n",
    "        return sample_target\n",
    "\n",
    "    def run_k_center(self, func_of_dis):\n",
    "        print('randomly create', self.k_num_center, 'centers')\n",
    "        indexs = list(range(len(self.data)))\n",
    "        random.shuffle(indexs)\n",
    "        init_centroids_index = indexs[:self.k_num_center]\n",
    "        centroids = self.data[init_centroids_index,:]\n",
    "        levels = list(range(self.k_num_center))\n",
    "        print(\"start iteration\")\n",
    "        sample_target = []\n",
    "        if_stop = False\n",
    "        while(not if_stop):\n",
    "            if_stop = True\n",
    "            classify_points = [[centroid] for centroid in centroids]\n",
    "            sample_target = []\n",
    "\n",
    "            for sample in self.data:\n",
    "                distances = [func_of_dis(sample, centroid) for centroid in centroids]\n",
    "                cur_level = np.argmin(distances)\n",
    "                sample_target.append(cur_level)\n",
    "                classify_points[cur_level].append(sample)\n",
    "\n",
    "            for i in range(self.k_num_center):\n",
    "                distances = [func_of_dis(point_1, centroids[i]) for point_1 in classify_points[i]]\n",
    "                now_distances = sum(distances)\n",
    "                for point in classify_points[i]:\n",
    "                    distances = [func_of_dis(point_1, point) for point_1 in classify_points[i]]\n",
    "                    new_distance = sum(distances)\n",
    "                    if new_distance < now_distances:\n",
    "                        now_distances = new_distance\n",
    "                        centroids[i] = point\n",
    "                        if_stop = False\n",
    "                \n",
    "        print('end')\n",
    "        return sample_target\n",
    "\n",
    "    def run(self):\n",
    "        if self.method == 'Mean':\n",
    "            predict = self.run_k_means(self.ou_distance)\n",
    "        else:\n",
    "            predict = self.run_k_center(self.ou_distance)\n",
    "        pyplot.scatter(self.data[:,0], self.data[:,1], c=predict)"
   ]
  },
  {
   "cell_type": "code",
   "execution_count": 3,
   "metadata": {},
   "outputs": [
    {
     "data": {
      "image/png": "[encoded data removed]",
      "text/plain": [
       "<Figure size 432x288 with 1 Axes>"
      ]
     },
     "metadata": {
      "needs_background": "light"
     },
     "output_type": "display_data"
    },
    {
     "name": "stdout",
     "output_type": "stream",
     "text": [
      "start iteration\n",
      "end\n"
     ]
    },
    {
     "data": {
      "image/png": "[encoded data removed]",
      "text/plain": [
       "<Figure size 432x288 with 1 Axes>"
      ]
     },
     "metadata": {
      "needs_background": "light"
     },
     "output_type": "display_data"
    }
   ],
   "source": [
    "test_one = Clustering(outlier = False, k_num_center = 2, method = 'Mean')\n",
    "test_one.run()"
   ]
  },
  {
   "cell_type": "code",
   "execution_count": 5,
   "metadata": {},
   "outputs": [
    {
     "data": {
      "image/png": "[encoded data removed]",
      "text/plain": [
       "<Figure size 432x288 with 1 Axes>"
      ]
     },
     "metadata": {
      "needs_background": "light"
     },
     "output_type": "display_data"
    },
    {
     "name": "stdout",
     "output_type": "stream",
     "text": [
      "randomly create 2 centers\n",
      "start iteration\n",
      "end\n"
     ]
    },
    {
     "data": {
      "image/png": "[encoded data removed]",
      "text/plain": [
       "<Figure size 432x288 with 1 Axes>"
      ]
     },
     "metadata": {
      "needs_background": "light"
     },
     "output_type": "display_data"
    }
   ],
   "source": [
    "test_one = Clustering(outlier = False, k_num_center = 2, method = 'medoid')\n",
    "test_one.run()"
   ]
  },
  {
   "cell_type": "code",
   "execution_count": 6,
   "metadata": {},
   "outputs": [
    {
     "data": {
      "image/png": "[encoded data removed]",
      "text/plain": [
       "<Figure size 432x288 with 1 Axes>"
      ]
     },
     "metadata": {
      "needs_background": "light"
     },
     "output_type": "display_data"
    },
    {
     "name": "stdout",
     "output_type": "stream",
     "text": [
      "start iteration\n",
      "end\n"
     ]
    },
    {
     "data": {
      "image/png": "[encoded data removed]",
      "text/plain": [
       "<Figure size 432x288 with 1 Axes>"
      ]
     },
     "metadata": {
      "needs_background": "light"
     },
     "output_type": "display_data"
    }
   ],
   "source": [
    "test_one = Clustering(outlier = True, k_num_center = 2, method = 'Mean')\n",
    "test_one.run()"
   ]
  },
  {
   "cell_type": "code",
   "execution_count": 7,
   "metadata": {},
   "outputs": [
    {
     "data": {
      "image/png": "[encoded data removed]",
      "text/plain": [
       "<Figure size 432x288 with 1 Axes>"
      ]
     },
     "metadata": {
      "needs_background": "light"
     },
     "output_type": "display_data"
    },
    {
     "name": "stdout",
     "output_type": "stream",
     "text": [
      "randomly create 2 centers\n",
      "start iteration\n",
      "end\n"
     ]
    },
    {
     "data": {
      "image/png": "[encoded data removed]",
      "text/plain": [
       "<Figure size 432x288 with 1 Axes>"
      ]
     },
     "metadata": {
      "needs_background": "light"
     },
     "output_type": "display_data"
    }
   ],
   "source": [
    "test_one = Clustering(outlier = True, k_num_center = 2, method = 'medoid')\n",
    "test_one.run()"
   ]
  },
  {
   "cell_type": "markdown",
   "metadata": {},
   "source": [
    "c. We can see that kmediod accounts for the weight of the outliers in creating clusters and are not much impacted in the presence of outliers in the data. On the otherhand, k means is heavily affected by the presence of outliers but works just as well when outliers = False"
   ]
  },
  {
   "cell_type": "code",
   "execution_count": null,
   "metadata": {},
   "outputs": [],
   "source": []
  }
 ],
 "metadata": {
  "kernelspec": {
   "display_name": "Python 3",
   "language": "python",
   "name": "python3"
  },
  "language_info": {
   "codemirror_mode": {
    "name": "ipython",
    "version": 3
   },
   "file_extension": ".py",
   "mimetype": "text/x-python",
   "name": "python",
   "nbconvert_exporter": "python",
   "pygments_lexer": "ipython3",
   "version": "3.7.3"
  }
 },
 "nbformat": 4,
 "nbformat_minor": 2
}
