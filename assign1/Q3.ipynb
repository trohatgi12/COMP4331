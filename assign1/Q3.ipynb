{
 "cells": [
  {
   "cell_type": "markdown",
   "metadata": {},
   "source": [
    "You are given the MNIST dataset (https://github.com/jiaxinxie97/COMP4331/tree/master/ assign1/Q3). The first column is the class label. \n",
    "The other columns are the intensity values for each individual pixel in each MNIST image. Note that the feature dimensionality is 784. Also, this dataset has been split into a training set and a test set.\n",
    "In this question, you have to implement in python:\n",
    "    The 1-nearest neighbor classifier, using the Euclidean distance as distance measure. Note that you need to implement it from scratch, directly calling a function is not allowed.\n",
    "    PCA,usingtheclasssklearn.decomposition.PCA(https://scikit-learn.org/stable/modules/generated/ sklearn.decomposition.PCA.html).\n",
    "Then, perform the following steps:\n",
    "1. Run your 1-nearest neighbor classifier, and report the test set accuracy.\n",
    "2. (Use PCA to reduce the feature dimensionality) For each PCA dimension d in {1,50,100,200,300}, perform PCA to extract d features, and then go back to step 1.\n",
    "    1. On the test data, you should use the same PCA transform as obtained on the training set, which can be retrieved from your pca object.components , your pca object in the object created by sklearn.decomposition.PCA.\n",
    "3. What trend do you observe?"
   ]
  },
  {
   "cell_type": "code",
   "execution_count": 2,
   "metadata": {},
   "outputs": [],
   "source": [
    "import pandas as pd\n",
    "import numpy as np"
   ]
  },
  {
   "cell_type": "code",
   "execution_count": 27,
   "metadata": {},
   "outputs": [
    {
     "data": {
      "text/plain": [
       "(1580, 784)"
      ]
     },
     "metadata": {},
     "output_type": "display_data"
    },
    {
     "data": {
      "text/plain": [
       "(420,)"
      ]
     },
     "metadata": {},
     "output_type": "display_data"
    }
   ],
   "source": [
    "# Create the test and training datasets\n",
    "train = pd.read_csv('Q3/Q3_train.csv')\n",
    "test = pd.read_csv('Q3/Q3_test.csv')\n",
    "#drop the \n",
    "X_train = np.array(train.drop(columns=['0']))\n",
    "y_train = np.array(train.iloc[:,0])\n",
    "X_test = np.array(test.drop(columns=['0']))\n",
    "y_test = np.array(test.iloc[:,0])\n",
    "display(X_train.shape)\n",
    "display(y_test.shape)"
   ]
  },
  {
   "cell_type": "code",
   "execution_count": 63,
   "metadata": {},
   "outputs": [],
   "source": [
    "def getNeighbors(np_train, x):\n",
    "    a = np.ones(np_train.shape)*x\n",
    "    sub = np_train-a\n",
    "    dist = np.sqrt(np.sum(pow(sub,2), axis=-1))\n",
    "    return train['0'].iloc[np.argmin(dist)]"
   ]
  },
  {
   "cell_type": "code",
   "execution_count": 68,
   "metadata": {},
   "outputs": [
    {
     "data": {
      "text/plain": [
       "9.0"
      ]
     },
     "execution_count": 68,
     "metadata": {},
     "output_type": "execute_result"
    }
   ],
   "source": [
    "#Check if the getNeighbors() function works well\n",
    "getNeighbors(np_train, np_test[2])"
   ]
  },
  {
   "cell_type": "code",
   "execution_count": 61,
   "metadata": {},
   "outputs": [
    {
     "data": {
      "text/plain": [
       "0    0.0\n",
       "1    4.0\n",
       "2    2.0\n",
       "3    1.0\n",
       "4    3.0\n",
       "Name: 0, dtype: float64"
      ]
     },
     "execution_count": 61,
     "metadata": {},
     "output_type": "execute_result"
    }
   ],
   "source": [
    "train['0'].head()"
   ]
  },
  {
   "cell_type": "code",
   "execution_count": null,
   "metadata": {},
   "outputs": [],
   "source": []
  }
 ],
 "metadata": {
  "kernelspec": {
   "display_name": "Python 3",
   "language": "python",
   "name": "python3"
  },
  "language_info": {
   "codemirror_mode": {
    "name": "ipython",
    "version": 3
   },
   "file_extension": ".py",
   "mimetype": "text/x-python",
   "name": "python",
   "nbconvert_exporter": "python",
   "pygments_lexer": "ipython3",
   "version": "3.6.4"
  }
 },
 "nbformat": 4,
 "nbformat_minor": 2
}
