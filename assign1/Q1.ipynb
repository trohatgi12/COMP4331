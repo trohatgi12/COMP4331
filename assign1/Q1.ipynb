{
 "cells": [
  {
   "cell_type": "markdown",
   "metadata": {},
   "source": [
    "# COMP 4331 Introduction to Data Mining\n",
    "## Assignment 1 "
   ]
  },
  {
   "cell_type": "markdown",
   "metadata": {},
   "source": [
    "Q1. Implement the following procedure on the Iris dataset (https://github.com/jiaxinxie97/COMP4331/\n",
    "tree/master/assign1/Q1). The dataset has 4 input features, and the output label is the type of flower. \n",
    "\n",
    "1. Show the boxplot for each feature. If a sample has an outlying feature, remove that sample.\n",
    "    1. Save the processed dataset to Q1 1.csv, using the same format as the given cvs file.\n",
    "    2. Include the boxplots of the original and processed datasets into the report."
   ]
  },
  {
   "cell_type": "code",
   "execution_count": 1,
   "metadata": {},
   "outputs": [],
   "source": [
    "import pandas as pd\n",
    "import numpy as np\n",
    "import matplotlib.pyplot as plt\n",
    "from scipy import stats"
   ]
  },
  {
   "cell_type": "code",
   "execution_count": 2,
   "metadata": {},
   "outputs": [
    {
     "data": {
      "text/plain": [
       "(150, 5)"
      ]
     },
     "metadata": {},
     "output_type": "display_data"
    },
    {
     "data": {
      "text/html": [
       "<div>\n",
       "<style scoped>\n",
       "    .dataframe tbody tr th:only-of-type {\n",
       "        vertical-align: middle;\n",
       "    }\n",
       "\n",
       "    .dataframe tbody tr th {\n",
       "        vertical-align: top;\n",
       "    }\n",
       "\n",
       "    .dataframe thead th {\n",
       "        text-align: right;\n",
       "    }\n",
       "</style>\n",
       "<table border=\"1\" class=\"dataframe\">\n",
       "  <thead>\n",
       "    <tr style=\"text-align: right;\">\n",
       "      <th></th>\n",
       "      <th>sepal length</th>\n",
       "      <th>sepal width</th>\n",
       "      <th>petal length</th>\n",
       "      <th>petal width</th>\n",
       "      <th>target</th>\n",
       "    </tr>\n",
       "  </thead>\n",
       "  <tbody>\n",
       "    <tr>\n",
       "      <th>0</th>\n",
       "      <td>5.1</td>\n",
       "      <td>3.5</td>\n",
       "      <td>1.4</td>\n",
       "      <td>0.2</td>\n",
       "      <td>2</td>\n",
       "    </tr>\n",
       "    <tr>\n",
       "      <th>1</th>\n",
       "      <td>4.9</td>\n",
       "      <td>3.0</td>\n",
       "      <td>1.4</td>\n",
       "      <td>0.2</td>\n",
       "      <td>2</td>\n",
       "    </tr>\n",
       "    <tr>\n",
       "      <th>2</th>\n",
       "      <td>4.7</td>\n",
       "      <td>3.2</td>\n",
       "      <td>1.3</td>\n",
       "      <td>0.2</td>\n",
       "      <td>2</td>\n",
       "    </tr>\n",
       "    <tr>\n",
       "      <th>3</th>\n",
       "      <td>4.6</td>\n",
       "      <td>3.1</td>\n",
       "      <td>1.5</td>\n",
       "      <td>0.2</td>\n",
       "      <td>2</td>\n",
       "    </tr>\n",
       "    <tr>\n",
       "      <th>4</th>\n",
       "      <td>5.0</td>\n",
       "      <td>3.6</td>\n",
       "      <td>1.4</td>\n",
       "      <td>0.2</td>\n",
       "      <td>2</td>\n",
       "    </tr>\n",
       "  </tbody>\n",
       "</table>\n",
       "</div>"
      ],
      "text/plain": [
       "   sepal length  sepal width  petal length  petal width  target\n",
       "0           5.1          3.5           1.4          0.2       2\n",
       "1           4.9          3.0           1.4          0.2       2\n",
       "2           4.7          3.2           1.3          0.2       2\n",
       "3           4.6          3.1           1.5          0.2       2\n",
       "4           5.0          3.6           1.4          0.2       2"
      ]
     },
     "execution_count": 2,
     "metadata": {},
     "output_type": "execute_result"
    }
   ],
   "source": [
    "X = pd.read_csv('Q1/Q1_train.csv')\n",
    "display(X.shape)\n",
    "X.head()"
   ]
  },
  {
   "cell_type": "code",
   "execution_count": 3,
   "metadata": {},
   "outputs": [
    {
     "data": {
      "image/png": "[encoded data removed]",
      "text/plain": [
       "<Figure size 432x288 with 1 Axes>"
      ]
     },
     "metadata": {
      "needs_background": "light"
     },
     "output_type": "display_data"
    }
   ],
   "source": [
    "d1 = plt.boxplot(X['sepal length'])\n",
    "plt.savefig('Q1/sepal_length_dist.png')"
   ]
  },
  {
   "cell_type": "code",
   "execution_count": 4,
   "metadata": {},
   "outputs": [
    {
     "data": {
      "image/png": "[encoded data removed]",
      "text/plain": [
       "<Figure size 432x288 with 1 Axes>"
      ]
     },
     "metadata": {
      "needs_background": "light"
     },
     "output_type": "display_data"
    }
   ],
   "source": [
    "d2 = plt.boxplot(X['sepal width'])\n",
    "plt.savefig('Q1/sepal_width_dist.png')"
   ]
  },
  {
   "cell_type": "code",
   "execution_count": 5,
   "metadata": {},
   "outputs": [
    {
     "data": {
      "image/png": "[encoded data removed]",
      "text/plain": [
       "<Figure size 432x288 with 1 Axes>"
      ]
     },
     "metadata": {
      "needs_background": "light"
     },
     "output_type": "display_data"
    }
   ],
   "source": [
    "d3 = plt.boxplot(X['petal length'])\n",
    "plt.savefig('Q1/petal_length_dist.png')"
   ]
  },
  {
   "cell_type": "code",
   "execution_count": 6,
   "metadata": {},
   "outputs": [
    {
     "data": {
      "image/png": "[encoded data removed]",
      "text/plain": [
       "<Figure size 432x288 with 1 Axes>"
      ]
     },
     "metadata": {
      "needs_background": "light"
     },
     "output_type": "display_data"
    }
   ],
   "source": [
    "d4 = plt.boxplot(X['petal width'])\n",
    "plt.savefig('Q1/petal_width_dist.png')"
   ]
  },
  {
   "cell_type": "code",
   "execution_count": 7,
   "metadata": {},
   "outputs": [
    {
     "data": {
      "text/plain": [
       "(146, 5)"
      ]
     },
     "execution_count": 7,
     "metadata": {},
     "output_type": "execute_result"
    }
   ],
   "source": [
    "q1 = X['sepal width'].quantile(0.25)\n",
    "q3 = X['sepal width'].quantile(0.75)\n",
    "iqr = q3-q1 #Interquartile range\n",
    "fence_low  = q1-1.5*iqr\n",
    "fence_high = q3+1.5*iqr\n",
    "X = X.loc[(X['sepal width'] > fence_low) & (X['sepal width'] < fence_high)]\n",
    "X.shape"
   ]
  },
  {
   "cell_type": "code",
   "execution_count": 8,
   "metadata": {},
   "outputs": [
    {
     "data": {
      "image/png": "[encoded data removed]",
      "text/plain": [
       "<Figure size 432x288 with 1 Axes>"
      ]
     },
     "metadata": {
      "needs_background": "light"
     },
     "output_type": "display_data"
    }
   ],
   "source": [
    "k2 = plt.boxplot(X['sepal width'])\n",
    "plt.savefig('sepal_width_dist_updated.png')"
   ]
  },
  {
   "cell_type": "code",
   "execution_count": 9,
   "metadata": {},
   "outputs": [
    {
     "data": {
      "text/plain": [
       "(146, 5)"
      ]
     },
     "execution_count": 9,
     "metadata": {},
     "output_type": "execute_result"
    }
   ],
   "source": [
    "q1 = X['sepal length'].quantile(0.25)\n",
    "q3 = X['sepal length'].quantile(0.75)\n",
    "iqr = q3-q1 #Interquartile range\n",
    "fence_low  = q1-1.5*iqr\n",
    "fence_high = q3+1.5*iqr\n",
    "X = X.loc[(X['sepal length'] > fence_low) & (X['sepal length'] < fence_high)]\n",
    "X.shape"
   ]
  },
  {
   "cell_type": "code",
   "execution_count": 10,
   "metadata": {},
   "outputs": [
    {
     "data": {
      "image/png": "[encoded data removed]",
      "text/plain": [
       "<Figure size 432x288 with 1 Axes>"
      ]
     },
     "metadata": {
      "needs_background": "light"
     },
     "output_type": "display_data"
    }
   ],
   "source": [
    "k1 = plt.boxplot(X['sepal length'])\n",
    "plt.savefig('sepal_length_dist_updated.png')"
   ]
  },
  {
   "cell_type": "code",
   "execution_count": 11,
   "metadata": {},
   "outputs": [
    {
     "data": {
      "image/png": "[encoded data removed]",
      "text/plain": [
       "<Figure size 432x288 with 1 Axes>"
      ]
     },
     "metadata": {
      "needs_background": "light"
     },
     "output_type": "display_data"
    }
   ],
   "source": [
    "k3 = plt.boxplot(X['petal length'])\n",
    "plt.savefig('petal_length_dist_updated.png')"
   ]
  },
  {
   "cell_type": "code",
   "execution_count": 12,
   "metadata": {},
   "outputs": [
    {
     "data": {
      "image/png": "[encoded data removed]",
      "text/plain": [
       "<Figure size 432x288 with 1 Axes>"
      ]
     },
     "metadata": {
      "needs_background": "light"
     },
     "output_type": "display_data"
    }
   ],
   "source": [
    "k4 = plt.boxplot(X['petal width'])\n",
    "plt.savefig('petal_width_dist_updated.png')"
   ]
  },
  {
   "cell_type": "code",
   "execution_count": 13,
   "metadata": {},
   "outputs": [],
   "source": [
    "X.to_csv('Q1/Q1_1.csv')"
   ]
  },
  {
   "cell_type": "markdown",
   "metadata": {},
   "source": [
    "2. Implement z-score normalization, and use it to normalize the dataset obtained in step 1. Save the normalized dataset to Q1 2.csv."
   ]
  },
  {
   "cell_type": "code",
   "execution_count": 14,
   "metadata": {},
   "outputs": [],
   "source": [
    "features = ['petal length', 'petal width', 'sepal width', 'sepal length']\n",
    "for i in features:\n",
    "    mean = X[i].mean()\n",
    "    std = X[i].std(ddof=0)\n",
    "    X[i] = (X[i] - mean) / std"
   ]
  },
  {
   "cell_type": "code",
   "execution_count": 15,
   "metadata": {},
   "outputs": [],
   "source": [
    "X.to_csv('Q1/Q1_2.csv')"
   ]
  },
  {
   "cell_type": "code",
   "execution_count": 16,
   "metadata": {},
   "outputs": [
    {
     "data": {
      "text/html": [
       "<div>\n",
       "<style scoped>\n",
       "    .dataframe tbody tr th:only-of-type {\n",
       "        vertical-align: middle;\n",
       "    }\n",
       "\n",
       "    .dataframe tbody tr th {\n",
       "        vertical-align: top;\n",
       "    }\n",
       "\n",
       "    .dataframe thead th {\n",
       "        text-align: right;\n",
       "    }\n",
       "</style>\n",
       "<table border=\"1\" class=\"dataframe\">\n",
       "  <thead>\n",
       "    <tr style=\"text-align: right;\">\n",
       "      <th></th>\n",
       "      <th>sepal length</th>\n",
       "      <th>sepal width</th>\n",
       "      <th>petal length</th>\n",
       "      <th>petal width</th>\n",
       "      <th>target</th>\n",
       "    </tr>\n",
       "  </thead>\n",
       "  <tbody>\n",
       "    <tr>\n",
       "      <th>0</th>\n",
       "      <td>-0.910515</td>\n",
       "      <td>1.159151</td>\n",
       "      <td>-1.373764</td>\n",
       "      <td>-1.348525</td>\n",
       "      <td>2</td>\n",
       "    </tr>\n",
       "    <tr>\n",
       "      <th>1</th>\n",
       "      <td>-1.151122</td>\n",
       "      <td>-0.101922</td>\n",
       "      <td>-1.373764</td>\n",
       "      <td>-1.348525</td>\n",
       "      <td>2</td>\n",
       "    </tr>\n",
       "    <tr>\n",
       "      <th>2</th>\n",
       "      <td>-1.391729</td>\n",
       "      <td>0.402507</td>\n",
       "      <td>-1.430841</td>\n",
       "      <td>-1.348525</td>\n",
       "      <td>2</td>\n",
       "    </tr>\n",
       "    <tr>\n",
       "      <th>3</th>\n",
       "      <td>-1.512032</td>\n",
       "      <td>0.150292</td>\n",
       "      <td>-1.316687</td>\n",
       "      <td>-1.348525</td>\n",
       "      <td>2</td>\n",
       "    </tr>\n",
       "    <tr>\n",
       "      <th>4</th>\n",
       "      <td>-1.030819</td>\n",
       "      <td>1.411365</td>\n",
       "      <td>-1.373764</td>\n",
       "      <td>-1.348525</td>\n",
       "      <td>2</td>\n",
       "    </tr>\n",
       "  </tbody>\n",
       "</table>\n",
       "</div>"
      ],
      "text/plain": [
       "   sepal length  sepal width  petal length  petal width  target\n",
       "0     -0.910515     1.159151     -1.373764    -1.348525       2\n",
       "1     -1.151122    -0.101922     -1.373764    -1.348525       2\n",
       "2     -1.391729     0.402507     -1.430841    -1.348525       2\n",
       "3     -1.512032     0.150292     -1.316687    -1.348525       2\n",
       "4     -1.030819     1.411365     -1.373764    -1.348525       2"
      ]
     },
     "execution_count": 16,
     "metadata": {},
     "output_type": "execute_result"
    }
   ],
   "source": [
    "X.head()"
   ]
  },
  {
   "cell_type": "markdown",
   "metadata": {},
   "source": [
    "3. We want to see if any two input features are highly related. Explain how this can be done by using a numerical measure we discussed in class, and show the corresponding plots."
   ]
  },
  {
   "cell_type": "code",
   "execution_count": 17,
   "metadata": {},
   "outputs": [
    {
     "data": {
      "image/png": "[encoded data removed]",
      "text/plain": [
       "<Figure size 288x288 with 1 Axes>"
      ]
     },
     "metadata": {
      "needs_background": "light"
     },
     "output_type": "display_data"
    },
    {
     "data": {
      "text/plain": [
       "<Figure size 432x288 with 0 Axes>"
      ]
     },
     "metadata": {},
     "output_type": "display_data"
    }
   ],
   "source": [
    "plt.matshow(X.corr(method = 'pearson'))\n",
    "plt.show()\n",
    "plt.savefig('Q1/Q1_3_correlation_heatmap.png')"
   ]
  },
  {
   "cell_type": "code",
   "execution_count": 18,
   "metadata": {},
   "outputs": [
    {
     "data": {
      "text/html": [
       "<style  type=\"text/css\" >\n",
       "    #T_4fdde1fe_f47b_11e9_b409_acde48001122row0_col0 {\n",
       "            background-color:  #b40426;\n",
       "        }    #T_4fdde1fe_f47b_11e9_b409_acde48001122row0_col1 {\n",
       "            background-color:  #7b9ff9;\n",
       "        }    #T_4fdde1fe_f47b_11e9_b409_acde48001122row0_col2 {\n",
       "            background-color:  #d1493f;\n",
       "        }    #T_4fdde1fe_f47b_11e9_b409_acde48001122row0_col3 {\n",
       "            background-color:  #df634e;\n",
       "        }    #T_4fdde1fe_f47b_11e9_b409_acde48001122row1_col0 {\n",
       "            background-color:  #3b4cc0;\n",
       "        }    #T_4fdde1fe_f47b_11e9_b409_acde48001122row1_col1 {\n",
       "            background-color:  #b40426;\n",
       "        }    #T_4fdde1fe_f47b_11e9_b409_acde48001122row1_col2 {\n",
       "            background-color:  #3b4cc0;\n",
       "        }    #T_4fdde1fe_f47b_11e9_b409_acde48001122row1_col3 {\n",
       "            background-color:  #3b4cc0;\n",
       "        }    #T_4fdde1fe_f47b_11e9_b409_acde48001122row2_col0 {\n",
       "            background-color:  #d85646;\n",
       "        }    #T_4fdde1fe_f47b_11e9_b409_acde48001122row2_col1 {\n",
       "            background-color:  #3b4cc0;\n",
       "        }    #T_4fdde1fe_f47b_11e9_b409_acde48001122row2_col2 {\n",
       "            background-color:  #b40426;\n",
       "        }    #T_4fdde1fe_f47b_11e9_b409_acde48001122row2_col3 {\n",
       "            background-color:  #be242e;\n",
       "        }    #T_4fdde1fe_f47b_11e9_b409_acde48001122row3_col0 {\n",
       "            background-color:  #e57058;\n",
       "        }    #T_4fdde1fe_f47b_11e9_b409_acde48001122row3_col1 {\n",
       "            background-color:  #485fd1;\n",
       "        }    #T_4fdde1fe_f47b_11e9_b409_acde48001122row3_col2 {\n",
       "            background-color:  #bd1f2d;\n",
       "        }    #T_4fdde1fe_f47b_11e9_b409_acde48001122row3_col3 {\n",
       "            background-color:  #b40426;\n",
       "        }</style>  \n",
       "<table id=\"T_4fdde1fe_f47b_11e9_b409_acde48001122\" > \n",
       "<thead>    <tr> \n",
       "        <th class=\"blank level0\" ></th> \n",
       "        <th class=\"col_heading level0 col0\" >sepal length</th> \n",
       "        <th class=\"col_heading level0 col1\" >sepal width</th> \n",
       "        <th class=\"col_heading level0 col2\" >petal length</th> \n",
       "        <th class=\"col_heading level0 col3\" >petal width</th> \n",
       "    </tr></thead> \n",
       "<tbody>    <tr> \n",
       "        <th id=\"T_4fdde1fe_f47b_11e9_b409_acde48001122level0_row0\" class=\"row_heading level0 row0\" >sepal length</th> \n",
       "        <td id=\"T_4fdde1fe_f47b_11e9_b409_acde48001122row0_col0\" class=\"data row0 col0\" >1</td> \n",
       "        <td id=\"T_4fdde1fe_f47b_11e9_b409_acde48001122row0_col1\" class=\"data row0 col1\" >-0.123144</td> \n",
       "        <td id=\"T_4fdde1fe_f47b_11e9_b409_acde48001122row0_col2\" class=\"data row0 col2\" >0.879362</td> \n",
       "        <td id=\"T_4fdde1fe_f47b_11e9_b409_acde48001122row0_col3\" class=\"data row0 col3\" >0.822587</td> \n",
       "    </tr>    <tr> \n",
       "        <th id=\"T_4fdde1fe_f47b_11e9_b409_acde48001122level0_row1\" class=\"row_heading level0 row1\" >sepal width</th> \n",
       "        <td id=\"T_4fdde1fe_f47b_11e9_b409_acde48001122row1_col0\" class=\"data row1 col0\" >-0.123144</td> \n",
       "        <td id=\"T_4fdde1fe_f47b_11e9_b409_acde48001122row1_col1\" class=\"data row1 col1\" >1</td> \n",
       "        <td id=\"T_4fdde1fe_f47b_11e9_b409_acde48001122row1_col2\" class=\"data row1 col2\" >-0.406141</td> \n",
       "        <td id=\"T_4fdde1fe_f47b_11e9_b409_acde48001122row1_col3\" class=\"data row1 col3\" >-0.340602</td> \n",
       "    </tr>    <tr> \n",
       "        <th id=\"T_4fdde1fe_f47b_11e9_b409_acde48001122level0_row2\" class=\"row_heading level0 row2\" >petal length</th> \n",
       "        <td id=\"T_4fdde1fe_f47b_11e9_b409_acde48001122row2_col0\" class=\"data row2 col0\" >0.879362</td> \n",
       "        <td id=\"T_4fdde1fe_f47b_11e9_b409_acde48001122row2_col1\" class=\"data row2 col1\" >-0.406141</td> \n",
       "        <td id=\"T_4fdde1fe_f47b_11e9_b409_acde48001122row2_col2\" class=\"data row2 col2\" >1</td> \n",
       "        <td id=\"T_4fdde1fe_f47b_11e9_b409_acde48001122row2_col3\" class=\"data row2 col3\" >0.961866</td> \n",
       "    </tr>    <tr> \n",
       "        <th id=\"T_4fdde1fe_f47b_11e9_b409_acde48001122level0_row3\" class=\"row_heading level0 row3\" >petal width</th> \n",
       "        <td id=\"T_4fdde1fe_f47b_11e9_b409_acde48001122row3_col0\" class=\"data row3 col0\" >0.822587</td> \n",
       "        <td id=\"T_4fdde1fe_f47b_11e9_b409_acde48001122row3_col1\" class=\"data row3 col1\" >-0.340602</td> \n",
       "        <td id=\"T_4fdde1fe_f47b_11e9_b409_acde48001122row3_col2\" class=\"data row3 col2\" >0.961866</td> \n",
       "        <td id=\"T_4fdde1fe_f47b_11e9_b409_acde48001122row3_col3\" class=\"data row3 col3\" >1</td> \n",
       "    </tr></tbody> \n",
       "</table> "
      ],
      "text/plain": [
       "<pandas.io.formats.style.Styler at 0x11b2f5e80>"
      ]
     },
     "execution_count": 18,
     "metadata": {},
     "output_type": "execute_result"
    }
   ],
   "source": [
    "corr = X[['sepal length', 'sepal width', 'petal length', 'petal width']].corr()\n",
    "corr.style.background_gradient(cmap='coolwarm')\n"
   ]
  },
  {
   "cell_type": "markdown",
   "metadata": {},
   "source": [
    "4. Using sklearn, train a decision tree (with the gini ratio as splitting criterion) using all the dataset obtained in step 2. To avoid overfitting, limit the maximum tree depth to 2.\n",
    "    1. You can use the class sklearn.tree.DecisionTreeClassifier (https://scikit-learn.org/stable/ modules/generated/sklearn.tree.DecisionTreeClassifier.html).\n",
    "    2. Show the resultant tree, using the function sklearn.tree.export graphviz (https://scikit-learn. org/stable/modules/generated/sklearn.tree.export_graphviz.html)."
   ]
  },
  {
   "cell_type": "code",
   "execution_count": 19,
   "metadata": {},
   "outputs": [],
   "source": [
    "from sklearn import tree\n",
    "clf = tree.DecisionTreeClassifier(max_depth = 2)"
   ]
  },
  {
   "cell_type": "code",
   "execution_count": 20,
   "metadata": {},
   "outputs": [],
   "source": [
    "x = X[['sepal length', 'sepal width', 'petal length', 'petal width']]\n",
    "y = X['target']"
   ]
  },
  {
   "cell_type": "code",
   "execution_count": 21,
   "metadata": {},
   "outputs": [],
   "source": [
    "clf = clf.fit(x,y)"
   ]
  },
  {
   "cell_type": "code",
   "execution_count": 22,
   "metadata": {},
   "outputs": [
    {
     "data": {
      "text/plain": [
       "2"
      ]
     },
     "execution_count": 22,
     "metadata": {},
     "output_type": "execute_result"
    }
   ],
   "source": [
    "clf.tree_.max_depth\n",
    "#Crosscheck if the depth is fixed at 2"
   ]
  },
  {
   "cell_type": "code",
   "execution_count": 23,
   "metadata": {},
   "outputs": [],
   "source": [
    "tree.export_graphviz(clf,out_file='tree.dot')"
   ]
  },
  {
   "cell_type": "markdown",
   "metadata": {},
   "source": [
    "5. Instead of fixing the maximum tree depth to 2, we now use cross-validation to find this value.\n",
    "    1. Let the candidate maximum depth values be {1,2,3,4}. Report the 10-fold cross-validated ac- curacies for each candidate maximum depth value, and then find the best maximum depth. You can use the function sklearn.model selection.cross val score(https://scikit-learn.org/ stable/modules/generated/sklearn.model_selection.cross_val_score.html)."
   ]
  },
  {
   "cell_type": "code",
   "execution_count": 24,
   "metadata": {},
   "outputs": [],
   "source": [
    "from sklearn import linear_model\n",
    "from sklearn.model_selection import cross_val_score"
   ]
  },
  {
   "cell_type": "code",
   "execution_count": 26,
   "metadata": {},
   "outputs": [],
   "source": [
    "depth = []\n",
    "for i in range(1,4):\n",
    "    clf = tree.DecisionTreeClassifier(max_depth=i)\n",
    "    scores = cross_val_score(clf, x, y, cv=10)\n",
    "    depth.append((i,scores.mean()))"
   ]
  },
  {
   "cell_type": "code",
   "execution_count": 27,
   "metadata": {},
   "outputs": [
    {
     "data": {
      "text/plain": [
       "(3, 0.95952380952380945)"
      ]
     },
     "metadata": {},
     "output_type": "display_data"
    }
   ],
   "source": [
    "display(max(depth))"
   ]
  }
 ],
 "metadata": {
  "kernelspec": {
   "display_name": "Python 3",
   "language": "python",
   "name": "python3"
  },
  "language_info": {
   "codemirror_mode": {
    "name": "ipython",
    "version": 3
   },
   "file_extension": ".py",
   "mimetype": "text/x-python",
   "name": "python",
   "nbconvert_exporter": "python",
   "pygments_lexer": "ipython3",
   "version": "3.6.4"
  }
 },
 "nbformat": 4,
 "nbformat_minor": 2
}
