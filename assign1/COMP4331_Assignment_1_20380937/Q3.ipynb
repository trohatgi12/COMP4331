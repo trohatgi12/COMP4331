{
  "nbformat": 4,
  "nbformat_minor": 0,
  "metadata": {
    "kernelspec": {
      "display_name": "Python 3",
      "language": "python",
      "name": "python3"
    },
    "language_info": {
      "codemirror_mode": {
        "name": "ipython",
        "version": 3
      },
      "file_extension": ".py",
      "mimetype": "text/x-python",
      "name": "python",
      "nbconvert_exporter": "python",
      "pygments_lexer": "ipython3",
      "version": "3.6.4"
    },
    "colab": {
      "name": "Q3.ipynb",
      "provenance": []
    }
  },
  "cells": [
    {
      "cell_type": "markdown",
      "metadata": {
        "id": "FcTe5UOztu-C",
        "colab_type": "text"
      },
      "source": [
        "You are given the MNIST dataset (https://github.com/jiaxinxie97/COMP4331/tree/master/ assign1/Q3). The first column is the class label. \n",
        "The other columns are the intensity values for each individual pixel in each MNIST image. Note that the feature dimensionality is 784. Also, this dataset has been split into a training set and a test set.\n",
        "In this question, you have to implement in python:\n",
        "    The 1-nearest neighbor classifier, using the Euclidean distance as distance measure. Note that you need to implement it from scratch, directly calling a function is not allowed.\n",
        "    PCA,usingtheclasssklearn.decomposition.PCA(https://scikit-learn.org/stable/modules/generated/ sklearn.decomposition.PCA.html).\n",
        "Then, perform the following steps:\n",
        "1. Run your 1-nearest neighbor classifier, and report the test set accuracy.\n",
        "2. (Use PCA to reduce the feature dimensionality) For each PCA dimension d in {1,50,100,200,300}, perform PCA to extract d features, and then go back to step 1.\n",
        "    1. On the test data, you should use the same PCA transform as obtained on the training set, which can be retrieved from your pca object.components , your pca object in the object created by sklearn.decomposition.PCA.\n",
        "3. What trend do you observe?"
      ]
    },
    {
      "cell_type": "code",
      "metadata": {
        "scrolled": true,
        "id": "eZ-UtdXttu-F",
        "colab_type": "code",
        "colab": {}
      },
      "source": [
        "import pandas as pd\n",
        "import numpy as np\n",
        "import math\n",
        "import operator\n",
        "from sklearn.decomposition import PCA"
      ],
      "execution_count": 0,
      "outputs": []
    },
    {
      "cell_type": "code",
      "metadata": {
        "scrolled": true,
        "id": "AdYV2hn4tu-I",
        "colab_type": "code",
        "colab": {},
        "outputId": "a0ece24f-50d0-4bc1-eb84-a614e37d60b8"
      },
      "source": [
        "# Create the test and training datasets\n",
        "train = pd.read_csv('Q3/Q3_train.csv')\n",
        "test = pd.read_csv('Q3/Q3_test.csv')\n",
        "#drop the \n",
        "X_train = np.array(train.drop(columns=['0']))\n",
        "y_train = np.array(train.iloc[:,0])\n",
        "X_test = np.array(test.drop(columns=['0']))\n",
        "y_test = np.array(test.iloc[:,0])\n",
        "y_train[30]"
      ],
      "execution_count": 0,
      "outputs": [
        {
          "output_type": "execute_result",
          "data": {
            "text/plain": [
              "5.0"
            ]
          },
          "metadata": {
            "tags": []
          },
          "execution_count": 70
        }
      ]
    },
    {
      "cell_type": "code",
      "metadata": {
        "scrolled": true,
        "id": "3m-qQqC3tu-M",
        "colab_type": "code",
        "colab": {}
      },
      "source": [
        "#Find the nearest neighbor of a test example and return it's index\n",
        "def getPred(X_train, s):\n",
        "    distances = []\n",
        "    for i in range(len(X_train)):\n",
        "        distance = math.sqrt(sum([(a - b) ** 2 for a, b in zip(X_train[i][:], s)]))\n",
        "        distances.append(distance)\n",
        "#     print(len(distances))\n",
        "    return y_train[np.argmin(distances)]"
      ],
      "execution_count": 0,
      "outputs": []
    },
    {
      "cell_type": "code",
      "metadata": {
        "scrolled": true,
        "id": "6YmMjvILtu-P",
        "colab_type": "code",
        "colab": {},
        "outputId": "485c65c3-9532-4325-daf9-11219743ff5e"
      },
      "source": [
        "if y_test[0] == getPred(X_train, X_test[0][:]):\n",
        "    print(True)\n",
        "else:\n",
        "    print(False)"
      ],
      "execution_count": 0,
      "outputs": [
        {
          "output_type": "stream",
          "text": [
            "False\n"
          ],
          "name": "stdout"
        }
      ]
    },
    {
      "cell_type": "code",
      "metadata": {
        "scrolled": true,
        "id": "1IuF7W1Ttu-R",
        "colab_type": "code",
        "colab": {}
      },
      "source": [
        "#Check the accuracy with which the nearest neighbors for the variables are\n",
        "def score(X_train, X_test):\n",
        "    correct = 0\n",
        "    ind = -1\n",
        "    for i in range(len(X_test)):\n",
        "        if y_test[i] == getPred(X_train, X_test[i][:]):\n",
        "            correct += 1\n",
        "    return (correct*1.0/len(X_test))"
      ],
      "execution_count": 0,
      "outputs": []
    },
    {
      "cell_type": "markdown",
      "metadata": {
        "id": "6vioRoUSty5d",
        "colab_type": "text"
      },
      "source": [
        "0.8324345355345435"
      ]
    },
    {
      "cell_type": "code",
      "metadata": {
        "scrolled": true,
        "id": "_cblGw0ctu-T",
        "colab_type": "code",
        "colab": {},
        "outputId": "cb8f0c60-1e33-4f4f-8819-babc1cff6f29"
      },
      "source": [
        "#Perform PCA to reduce dimensionality\n",
        "d = [1,50,100,200,300]\n",
        "scores = []\n",
        "for i in d:\n",
        "    pca = PCA(n_components=i)\n",
        "    X_train_new = pca.fit_transform(X_train)\n",
        "    X_test_new = pca.transform(X_test)\n",
        "    sc = score(X_train_new, X_test_new)\n",
        "    scores.append(sc)\n",
        "print(scores)\n",
        "    "
      ],
      "execution_count": 0,
      "outputs": [
        {
          "output_type": "stream",
          "text": [
            "[0.20714285714285716, 0.8714285714285714, 0.8666666666666667, 0.8357142857142857, 0.830952380952381]\n"
          ],
          "name": "stdout"
        }
      ]
    },
    {
      "cell_type": "code",
      "metadata": {
        "scrolled": true,
        "id": "fwN56wHhtu-V",
        "colab_type": "code",
        "colab": {},
        "outputId": "c53bc1b0-4cc5-4156-dff4-b8562ca3778d"
      },
      "source": [
        "import matplotlib.pyplot as plt\n",
        "plt.plot(d,scores)\n",
        "plt.savefig('Q3/PCA_1NN.png')\n",
        "plt.show()\n"
      ],
      "execution_count": 0,
      "outputs": [
        {
          "output_type": "display_data",
          "data": {
            "image/png": "[encoded data removed]",
            "text/plain": [
              "<Figure size 432x288 with 1 Axes>"
            ]
          },
          "metadata": {
            "tags": [],
            "needs_background": "light"
          }
        }
      ]
    },
    {
      "cell_type": "markdown",
      "metadata": {
        "id": "fZgkNpK2tu-X",
        "colab_type": "text"
      },
      "source": [
        "We observe the trend that performing PCA first increases the accuracy score which then plateaus out at around 87% for 50 features. Removing additional feature set boosts learning rates and diminishes computation costs by removing redundant features"
      ]
    }
  ]
}